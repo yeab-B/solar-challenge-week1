{
 "cells": [
  {
   "cell_type": "code",
   "execution_count": 3,
   "id": "91a7947f",
   "metadata": {},
   "outputs": [],
   "source": [
    "import pandas as pd\n",
    "\n",
    "def safe_read_csv(path):\n",
    "\ttry:\n",
    "\t\treturn pd.read_csv(path)\n",
    "\texcept FileNotFoundError:\n",
    "\t\tprint(f\"Warning: {path} not found. Skipping.\")\n",
    "\t\treturn None\n",
    "\n",
    "benin = safe_read_csv('data/benin-malanville.csv')\n",
    "togo = safe_read_csv('data/togo-dapaong_qc.csv')\n",
    "sierraleone = safe_read_csv('data/sierraleone-bumbuna.csv')\n",
    "\n",
    "dfs = []\n",
    "if benin is not None:\n",
    "\tbenin['Country'] = 'Benin'\n",
    "\tdfs.append(benin)\n",
    "if togo is not None:\n",
    "\ttogo['Country'] = 'Togo'\n",
    "\tdfs.append(togo)\n",
    "if sierraleone is not None:\n",
    "\tsierraleone['Country'] = 'Sierra Leone'\n",
    "\tdfs.append(sierraleone)\n",
    "\n",
    "if dfs:\n",
    "\tdf_all = pd.concat(dfs)\n",
    "else:\n",
    "\tdf_all = pd.DataFrame()\n"
   ]
  }
 ],
 "metadata": {
  "kernelspec": {
   "display_name": ".venv",
   "language": "python",
   "name": "python3"
  },
  "language_info": {
   "codemirror_mode": {
    "name": "ipython",
    "version": 3
   },
   "file_extension": ".py",
   "mimetype": "text/x-python",
   "name": "python",
   "nbconvert_exporter": "python",
   "pygments_lexer": "ipython3",
   "version": "3.12.3"
  }
 },
 "nbformat": 4,
 "nbformat_minor": 5
}
