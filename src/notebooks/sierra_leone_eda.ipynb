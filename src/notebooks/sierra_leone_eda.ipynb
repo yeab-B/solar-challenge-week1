{
 "cells": [
  {
   "cell_type": "code",
   "execution_count": null,
   "id": "8187b19b",
   "metadata": {},
   "outputs": [],
   "source": []
  },
  {
   "cell_type": "code",
   "execution_count": null,
   "id": "75e7cfc0",
   "metadata": {},
   "outputs": [],
   "source": [
    "import pandas as pd\n",
    "\n",
    "# df = pd.read_csv('data/benin-malanville.csv')  # Make sure this \n",
    "# file exists\n",
    "df = pd.read_csv(\"data/sierraleone-bumbuna.csv\", parse_dates=[\"Timestamp\"])\n",
    "df.head()\n"
   ]
  },
  {
   "cell_type": "code",
   "execution_count": null,
   "id": "9238a967",
   "metadata": {},
   "outputs": [],
   "source": [
    "df.describe()\n",
    "df.isna().sum().sort_values(ascending=False)"
   ]
  }
 ],
 "metadata": {
  "language_info": {
   "name": "python"
  }
 },
 "nbformat": 4,
 "nbformat_minor": 5
}
