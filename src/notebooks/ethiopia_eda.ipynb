{
 "cells": [
  {
   "cell_type": "code",
   "execution_count": 3,
   "id": "219b2e5a",
   "metadata": {},
   "outputs": [
    {
     "data": {
      "text/html": [
       "<div>\n",
       "<style scoped>\n",
       "    .dataframe tbody tr th:only-of-type {\n",
       "        vertical-align: middle;\n",
       "    }\n",
       "\n",
       "    .dataframe tbody tr th {\n",
       "        vertical-align: top;\n",
       "    }\n",
       "\n",
       "    .dataframe thead th {\n",
       "        text-align: right;\n",
       "    }\n",
       "</style>\n",
       "<table border=\"1\" class=\"dataframe\">\n",
       "  <thead>\n",
       "    <tr style=\"text-align: right;\">\n",
       "      <th></th>\n",
       "      <th>-BEGIN HEADER-</th>\n",
       "    </tr>\n",
       "  </thead>\n",
       "  <tbody>\n",
       "    <tr>\n",
       "      <th>0</th>\n",
       "      <td>NASA/POWER Source Native Resolution Daily Data</td>\n",
       "    </tr>\n",
       "    <tr>\n",
       "      <th>1</th>\n",
       "      <td>Dates (month/day/year): 01/01/2022 through 12/...</td>\n",
       "    </tr>\n",
       "    <tr>\n",
       "      <th>2</th>\n",
       "      <td>Location: latitude  9.03   longitude 38.74</td>\n",
       "    </tr>\n",
       "    <tr>\n",
       "      <th>3</th>\n",
       "      <td>elevation from MERRA-2: Average for 0.5 x 0.62...</td>\n",
       "    </tr>\n",
       "    <tr>\n",
       "      <th>4</th>\n",
       "      <td>The value for missing source data that cannot ...</td>\n",
       "    </tr>\n",
       "  </tbody>\n",
       "</table>\n",
       "</div>"
      ],
      "text/plain": [
       "                                      -BEGIN HEADER-\n",
       "0    NASA/POWER Source Native Resolution Daily Data \n",
       "1  Dates (month/day/year): 01/01/2022 through 12/...\n",
       "2        Location: latitude  9.03   longitude 38.74 \n",
       "3  elevation from MERRA-2: Average for 0.5 x 0.62...\n",
       "4  The value for missing source data that cannot ..."
      ]
     },
     "execution_count": 3,
     "metadata": {},
     "output_type": "execute_result"
    }
   ],
   "source": [
    "import pandas as pd\n",
    "df = pd.read_csv('data/ethiopia.csv', delimiter=';')\n",
    "\n",
    "df.head() "
   ]
  },
  {
   "cell_type": "code",
   "execution_count": 4,
   "id": "e1605c5a",
   "metadata": {},
   "outputs": [
    {
     "data": {
      "text/plain": [
       "-BEGIN HEADER-    0\n",
       "dtype: int64"
      ]
     },
     "execution_count": 4,
     "metadata": {},
     "output_type": "execute_result"
    }
   ],
   "source": [
    "df.describe()\n",
    "df.isna().sum()\n"
   ]
  },
  {
   "cell_type": "code",
   "execution_count": 8,
   "id": "a6690bb7",
   "metadata": {},
   "outputs": [
    {
     "name": "stdout",
     "output_type": "stream",
     "text": [
      "0 -BEGIN HEADER-\n",
      "1 NASA/POWER Source Native Resolution Daily Data\n",
      "2 Dates (month/day/year): 01/01/2022 through 12/31/2023 in LST\n",
      "3 Location: latitude  9.03   longitude 38.74\n",
      "4 elevation from MERRA-2: Average for 0.5 x 0.625 degree lat/lon region = 2349.69 meters\n",
      "5 The value for missing source data that cannot be computed or is outside of the sources availability range: -999\n",
      "6 parameter(s):\n",
      "7 ALLSKY_SFC_SW_DWN     CERES SYN1deg All Sky Surface Shortwave Downward Irradiance (kW-hr/m^2/day)\n",
      "8 T2M                   MERRA-2 Temperature at 2 Meters (C)\n",
      "9 RH2M                  MERRA-2 Relative Humidity at 2 Meters (%)\n",
      "10 -END HEADER-\n",
      "11 YEAR,MO,DY,ALLSKY_SFC_SW_DWN,T2M,RH2M\n",
      "12 2022,1,1,5.19,15.05,61.54\n",
      "13 2022,1,2,4.28,16.5,61.13\n",
      "14 2022,1,3,4.79,14.72,76.46\n",
      "Column 'GHI' not found in dataframe.\n",
      "Column 'DNI' not found in dataframe.\n",
      "Column 'DHI' not found in dataframe.\n",
      "Column 'ModA' not found in dataframe.\n",
      "Column 'ModB' not found in dataframe.\n",
      "Column 'WS' not found in dataframe.\n",
      "Column 'WSgust' not found in dataframe.\n"
     ]
    }
   ],
   "source": [
    "# Inspect the first few lines to find the correct header row\n",
    "with open('data/ethiopia.csv') as f:\n",
    "    for i in range(15):\n",
    "        print(i, f.readline().strip())\n",
    "\n",
    "# After inspecting, set the correct header row (e.g., header=10 if the real header is at line 11).\n",
    "# The file uses a comma as the delimiter and the header row is set to line 11 (header=10) based on inspection.\n",
    "df = pd.read_csv('data/ethiopia.csv', delimiter=',', header=10)\n",
    "\n",
    "from scipy.stats import zscore\n",
    "\n",
    "for col in ['GHI', 'DNI', 'DHI', 'ModA', 'ModB', 'WS', 'WSgust']:\n",
    "    if col in df.columns:\n",
    "        df['z_' + col] = zscore(df[col])\n",
    "        print(col, \"outliers:\", (df['z_' + col].abs() > 3).sum())\n",
    "    else:\n",
    "        print(f\"Column '{col}' not found in dataframe.\")\n"
   ]
  },
  {
   "cell_type": "code",
   "execution_count": 10,
   "id": "6ea94aa0",
   "metadata": {},
   "outputs": [],
   "source": [
    "df = df.fillna(df.median(numeric_only=True))\n"
   ]
  },
  {
   "cell_type": "code",
   "execution_count": 11,
   "id": "e93d5828",
   "metadata": {},
   "outputs": [],
   "source": [
    "df.to_csv('data/ethiopia.csv', index=False)\n"
   ]
  },
  {
   "cell_type": "code",
   "execution_count": 12,
   "id": "db11c195",
   "metadata": {},
   "outputs": [],
   "source": [
    "import matplotlib.pyplot as plt\n",
    "import seaborn as sns\n"
   ]
  }
 ],
 "metadata": {
  "kernelspec": {
   "display_name": ".venv",
   "language": "python",
   "name": "python3"
  },
  "language_info": {
   "codemirror_mode": {
    "name": "ipython",
    "version": 3
   },
   "file_extension": ".py",
   "mimetype": "text/x-python",
   "name": "python",
   "nbconvert_exporter": "python",
   "pygments_lexer": "ipython3",
   "version": "3.12.3"
  }
 },
 "nbformat": 4,
 "nbformat_minor": 5
}
