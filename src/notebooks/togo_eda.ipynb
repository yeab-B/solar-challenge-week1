{
 "cells": [
  {
   "cell_type": "code",
   "execution_count": null,
   "id": "3c4c8d72",
   "metadata": {},
   "outputs": [],
   "source": [
    "import pandas as pd\n",
    "\n",
    "# df = pd.read_csv('data/benin-malanville.csv')  # Make sure this \n",
    "# file exists\n",
    "df = pd.read_csv(\"data/togo-dapaong_qc.csv\", parse_dates=[\"Timestamp\"])\n",
    "df.head()\n"
   ]
  },
  {
   "cell_type": "code",
   "execution_count": null,
   "id": "787e7be5",
   "metadata": {},
   "outputs": [],
   "source": [
    "df.describe()\n",
    "df.isna().sum().sort_values(ascending=False)"
   ]
  },
  {
   "cell_type": "code",
   "execution_count": null,
   "id": "019939a6",
   "metadata": {},
   "outputs": [],
   "source": [
    "from scipy.stats import zscore\n",
    "\n",
    "for col in ['GHI', 'DNI', 'DHI', 'ModA', 'ModB', 'WS', 'WSgust']:\n",
    "    if col in df.columns:\n",
    "        df['z_' + col] = zscore(df[col])\n",
    "        print(f\"{col} outliers:\", (df['z_' + col].abs() > 3).sum())\n"
   ]
  },
  {
   "cell_type": "code",
   "execution_count": null,
   "id": "54339737",
   "metadata": {},
   "outputs": [],
   "source": [
    "# Drop rows where key columns are missing\n",
    "df = df.dropna(subset=['GHI', 'DNI', 'DHI'])\n",
    "\n",
    "# Fill missing sensor values with median\n",
    "for col in ['ModA', 'ModB', 'WS', 'WSgust']:\n",
    "    if col in df.columns:\n",
    "        df[col] = df[col].fillna(df[col].median())\n",
    "\n",
    "# Drop z-score columns (if any)\n",
    "df.drop(columns=[col for col in df.columns if str(col).startswith('z_')], inplace=True)\n"
   ]
  },
  {
   "cell_type": "code",
   "execution_count": null,
   "id": "0f6c8b75",
   "metadata": {},
   "outputs": [],
   "source": [
    "df.to_csv('data/togo-dapaong_qc.csv', index=False)\n"
   ]
  },
  {
   "cell_type": "code",
   "execution_count": null,
   "id": "de404c7b",
   "metadata": {},
   "outputs": [],
   "source": [
    "import matplotlib.pyplot as plt\n",
    "\n",
    "df['Timestamp'] = pd.to_datetime(df['Timestamp'])  # Adjust if your time column is named differently\n",
    "df.set_index('Timestamp').resample('D')[['GHI', 'DNI', 'DHI']].mean().plot()\n",
    "plt.title('Daily Solar Radiation')\n",
    "plt.show()\n"
   ]
  }
 ],
 "metadata": {
  "language_info": {
   "name": "python"
  }
 },
 "nbformat": 4,
 "nbformat_minor": 5
}
