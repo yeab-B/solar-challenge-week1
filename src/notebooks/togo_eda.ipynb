{
 "cells": [
  {
   "cell_type": "code",
   "execution_count": null,
   "id": "3c4c8d72",
   "metadata": {},
   "outputs": [],
   "source": [
    "import pandas as pd\n",
    "\n",
    "# df = pd.read_csv('data/benin-malanville.csv')  # Make sure this \n",
    "# file exists\n",
    "df = pd.read_csv(\"data/benin-malanville.csv\", parse_dates=[\"Timestamp\"])\n",
    "df.head()\n"
   ]
  }
 ],
 "metadata": {
  "language_info": {
   "name": "python"
  }
 },
 "nbformat": 4,
 "nbformat_minor": 5
}
