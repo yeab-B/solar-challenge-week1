{
 "cells": [
  {
   "cell_type": "code",
   "execution_count": null,
   "id": "3c4c8d72",
   "metadata": {},
   "outputs": [],
   "source": [
    "import pandas as pd\n",
    "\n",
    "# df = pd.read_csv('data/benin-malanville.csv')  # Make sure this \n",
    "# file exists\n",
    "df = pd.read_csv(\"data/togo-dapaong_qc.csv\", parse_dates=[\"Timestamp\"])\n",
    "df.head()\n"
   ]
  },
  {
   "cell_type": "code",
   "execution_count": null,
   "id": "787e7be5",
   "metadata": {},
   "outputs": [],
   "source": [
    "df.describe()\n",
    "df.isna().sum().sort_values(ascending=False)"
   ]
  },
  {
   "cell_type": "code",
   "execution_count": null,
   "id": "019939a6",
   "metadata": {},
   "outputs": [],
   "source": [
    "from scipy.stats import zscore\n",
    "\n",
    "for col in ['GHI', 'DNI', 'DHI', 'ModA', 'ModB', 'WS', 'WSgust']:\n",
    "    if col in df.columns:\n",
    "        df['z_' + col] = zscore(df[col])\n",
    "        print(f\"{col} outliers:\", (df['z_' + col].abs() > 3).sum())\n"
   ]
  }
 ],
 "metadata": {
  "language_info": {
   "name": "python"
  }
 },
 "nbformat": 4,
 "nbformat_minor": 5
}
